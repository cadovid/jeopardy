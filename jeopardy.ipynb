{
 "cells": [
  {
   "cell_type": "markdown",
   "metadata": {
    "collapsed": true
   },
   "source": [
    "## Winning Jeopardy\n",
    "\n",
    "Jeopardy is a popular TV show in the US where participants answer questions to win money. Let's say you want to compete on Jeopardy, and you're looking for any edge you can get to win. In this project, we'll work with a dataset of Jeopardy questions to figure out some patterns in the questions that could help you win. The dataset was recopilated by crawling the [archive of Jeopardy](http://www.j-archive.com/) and can be downloaded from [here](https://www.reddit.com/r/datasets/comments/1uyd0t/200000_jeopardy_questions_in_a_json_file/).\n",
    "\n",
    "The format of the file is a JSON which structure is an unordered list of questions where each question has:\n",
    "\n",
    "- `category` : the question category, e.g. \"HISTORY\".\n",
    "- `value` : value of the question as string, e.g. \"\\$200\" . _Note_: This is \"None\" for Final Jeopardy! and Tiebreaker questions.\n",
    "- `question` : text of question. _Note_: This sometimes contains hyperlinks and other things messy text such as when there's a picture or video question.\n",
    "- `answer` : text of answer.\n",
    "- `round` : one of \"Jeopardy!\",\"Double Jeopardy!\",\"Final Jeopardy!\" or \"Tiebreaker\". _Note_: Tiebreaker questions do happen but they're very rare (like once every 20 years).\n",
    "- `show_number` : string of show number, e.g '4680'.\n",
    "- `air_date` : the show air date in format YYYY-MM-DD.\n",
    "\n",
    "We'll use a subset of the dataset, in which we sample a total of 20000 rows in which each row represents a single question on a single episode of Jeopardy. Here are explanations of each column:\n",
    "\n",
    "- `Show Number` -- the Jeopardy episode number of the show this question was in.\n",
    "- `Air Date` -- the date the episode aired.\n",
    "- `Round` -- the round of Jeopardy that the question was asked in. Jeopardy has several rounds as each episode progresses.\n",
    "- `Category` -- the category of the question.\n",
    "- `Value` -- the number of dollars answering the question correctly is worth.\n",
    "- `Question` -- the text of the question.\n",
    "- `Answer` -- the text of the answer.\n",
    "\n",
    "### Reading and cleaning dataset"
   ]
  },
  {
   "cell_type": "code",
   "execution_count": 1,
   "metadata": {
    "collapsed": false
   },
   "outputs": [
    {
     "name": "stdout",
     "output_type": "stream",
     "text": [
      "Nr of rows: 19999\tNr of columns: 7\n",
      "First rows of Jeopardy:\n",
      "   Show Number    Air Date      Round                         Category  Value  \\\n",
      "0         4680  2004-12-31  Jeopardy!                          HISTORY   $200   \n",
      "1         4680  2004-12-31  Jeopardy!  ESPN's TOP 10 ALL-TIME ATHLETES   $200   \n",
      "2         4680  2004-12-31  Jeopardy!      EVERYBODY TALKS ABOUT IT...   $200   \n",
      "3         4680  2004-12-31  Jeopardy!                 THE COMPANY LINE   $200   \n",
      "4         4680  2004-12-31  Jeopardy!              EPITAPHS & TRIBUTES   $200   \n",
      "\n",
      "                                            Question      Answer  \n",
      "0  For the last 8 years of his life, Galileo was ...  Copernicus  \n",
      "1  No. 2: 1912 Olympian; football star at Carlisl...  Jim Thorpe  \n",
      "2  The city of Yuma in this state has a record av...     Arizona  \n",
      "3  In 1963, live on \"The Art Linkletter Show\", th...  McDonald's  \n",
      "4  Signer of the Dec. of Indep., framer of the Co...  John Adams  \n",
      "\n",
      "Columns: Index(['Show Number', ' Air Date', ' Round', ' Category', ' Value',\n",
      "       ' Question', ' Answer'],\n",
      "      dtype='object')\n"
     ]
    }
   ],
   "source": [
    "# Read dataset\n",
    "import pandas as pd\n",
    "\n",
    "jeopardy = pd.read_csv('jeopardy.csv')\n",
    "rows, columns = jeopardy.shape\n",
    "print('Nr of rows: {}\\tNr of columns: {}'.format(rows, columns))\n",
    "print('First rows of Jeopardy:', jeopardy.head(), sep='\\n')\n",
    "print('\\nColumns: {}'.format(jeopardy.columns))"
   ]
  },
  {
   "cell_type": "code",
   "execution_count": 2,
   "metadata": {
    "collapsed": false
   },
   "outputs": [
    {
     "name": "stdout",
     "output_type": "stream",
     "text": [
      "Columns: Index(['Show Number', 'Air Date', 'Round', 'Category', 'Value', 'Question',\n",
      "       'Answer'],\n",
      "      dtype='object')\n"
     ]
    }
   ],
   "source": [
    "# Clean columns\n",
    "new_columns = []\n",
    "for column in jeopardy.columns:\n",
    "    column = column.strip()\n",
    "    new_columns.append(column)\n",
    "jeopardy.columns = new_columns\n",
    "print('Columns: {}'.format(jeopardy.columns))"
   ]
  },
  {
   "cell_type": "markdown",
   "metadata": {},
   "source": [
    "Before we can start doing analysis on the Jeopardy questions, we need to normalize all of the text columns (the `Question` and `Answer` columns). The idea is to ensure that we lowercase words and remove punctuation so _Don't_ and _don't_ aren't considered to be different words when we compare them.\n",
    "\n",
    "After that, there are also some other columns to normalize. The `Value` column should also be numeric, to allow us to manipulate it more easily. We'll need to remove the dollar sign from the beginning of each value and convert the column from text to numeric.\n",
    "\n",
    "The `Air Date` column should also be a datetime, not a string, to enable us to work with it more easily."
   ]
  },
  {
   "cell_type": "code",
   "execution_count": 3,
   "metadata": {
    "collapsed": false
   },
   "outputs": [
    {
     "name": "stdout",
     "output_type": "stream",
     "text": [
      "First rows of Jeopardy:\n",
      "   Show Number    Air Date      Round                         Category Value  \\\n",
      "0         4680  2004-12-31  Jeopardy!                          HISTORY  $200   \n",
      "1         4680  2004-12-31  Jeopardy!  ESPN's TOP 10 ALL-TIME ATHLETES  $200   \n",
      "2         4680  2004-12-31  Jeopardy!      EVERYBODY TALKS ABOUT IT...  $200   \n",
      "3         4680  2004-12-31  Jeopardy!                 THE COMPANY LINE  $200   \n",
      "4         4680  2004-12-31  Jeopardy!              EPITAPHS & TRIBUTES  $200   \n",
      "\n",
      "                                            Question      Answer  \\\n",
      "0  For the last 8 years of his life, Galileo was ...  Copernicus   \n",
      "1  No. 2: 1912 Olympian; football star at Carlisl...  Jim Thorpe   \n",
      "2  The city of Yuma in this state has a record av...     Arizona   \n",
      "3  In 1963, live on \"The Art Linkletter Show\", th...  McDonald's   \n",
      "4  Signer of the Dec. of Indep., framer of the Co...  John Adams   \n",
      "\n",
      "                                      clean_question clean_answer  \n",
      "0  for the last 8 years of his life galileo was u...   copernicus  \n",
      "1  no 2 1912 olympian football star at carlisle i...   jim thorpe  \n",
      "2  the city of yuma in this state has a record av...      arizona  \n",
      "3  in 1963 live on the art linkletter show this c...    mcdonalds  \n",
      "4  signer of the dec of indep framer of the const...   john adams  \n"
     ]
    }
   ],
   "source": [
    "def normalize_text(string_):\n",
    "    import re\n",
    "    string_ = string_.lower()\n",
    "    string_ = re.sub('[^a-zA-Z0-9_\\s]', '', string_)\n",
    "    string_ = re.sub('\\s+', ' ', string_)\n",
    "    return string_\n",
    "\n",
    "jeopardy['clean_question'] = jeopardy['Question'].apply(normalize_text)\n",
    "jeopardy['clean_answer'] = jeopardy['Answer'].apply(normalize_text)\n",
    "print('First rows of Jeopardy:', jeopardy.head(), sep='\\n')"
   ]
  },
  {
   "cell_type": "code",
   "execution_count": 4,
   "metadata": {
    "collapsed": false
   },
   "outputs": [
    {
     "name": "stdout",
     "output_type": "stream",
     "text": [
      "First rows of Jeopardy:\n",
      "   Show Number   Air Date      Round                         Category Value  \\\n",
      "0         4680 2004-12-31  Jeopardy!                          HISTORY  $200   \n",
      "1         4680 2004-12-31  Jeopardy!  ESPN's TOP 10 ALL-TIME ATHLETES  $200   \n",
      "2         4680 2004-12-31  Jeopardy!      EVERYBODY TALKS ABOUT IT...  $200   \n",
      "3         4680 2004-12-31  Jeopardy!                 THE COMPANY LINE  $200   \n",
      "4         4680 2004-12-31  Jeopardy!              EPITAPHS & TRIBUTES  $200   \n",
      "\n",
      "                                            Question      Answer  \\\n",
      "0  For the last 8 years of his life, Galileo was ...  Copernicus   \n",
      "1  No. 2: 1912 Olympian; football star at Carlisl...  Jim Thorpe   \n",
      "2  The city of Yuma in this state has a record av...     Arizona   \n",
      "3  In 1963, live on \"The Art Linkletter Show\", th...  McDonald's   \n",
      "4  Signer of the Dec. of Indep., framer of the Co...  John Adams   \n",
      "\n",
      "                                      clean_question clean_answer  clean_value  \n",
      "0  for the last 8 years of his life galileo was u...   copernicus          200  \n",
      "1  no 2 1912 olympian football star at carlisle i...   jim thorpe          200  \n",
      "2  the city of yuma in this state has a record av...      arizona          200  \n",
      "3  in 1963 live on the art linkletter show this c...    mcdonalds          200  \n",
      "4  signer of the dec of indep framer of the const...   john adams          200  \n"
     ]
    }
   ],
   "source": [
    "def normalize_values(string_):\n",
    "    import re\n",
    "    string_ = re.sub('[^a-zA-Z0-9_\\s]', '', string_)\n",
    "    try:\n",
    "        string_ = int(string_)\n",
    "    except Exception:\n",
    "        string_ = 0\n",
    "    return string_\n",
    "\n",
    "jeopardy['clean_value'] = jeopardy['Value'].apply(normalize_values)\n",
    "jeopardy['Air Date'] = pd.to_datetime(jeopardy['Air Date'])\n",
    "print('First rows of Jeopardy:', jeopardy.head(), sep='\\n')"
   ]
  },
  {
   "cell_type": "code",
   "execution_count": 5,
   "metadata": {
    "collapsed": false
   },
   "outputs": [
    {
     "name": "stdout",
     "output_type": "stream",
     "text": [
      "Show Number                int64\n",
      "Air Date          datetime64[ns]\n",
      "Round                     object\n",
      "Category                  object\n",
      "Value                     object\n",
      "Question                  object\n",
      "Answer                    object\n",
      "clean_question            object\n",
      "clean_answer              object\n",
      "clean_value                int64\n",
      "dtype: object\n"
     ]
    }
   ],
   "source": [
    "print(jeopardy.dtypes)"
   ]
  },
  {
   "cell_type": "markdown",
   "metadata": {},
   "source": [
    "### Finding matches for answer in questions and recycled questions\n",
    "\n",
    "In order to figure out whether to study past questions, study general knowledge, or not study it all, it would be helpful to figure out two things:\n",
    "\n",
    "- How often the answer is deducible from the question.\n",
    "- How often new questions are repeats of older questions.\n",
    "\n",
    "We'll begin with the first question. We can answer it by seeing how many times words in the answer also occur in the question."
   ]
  },
  {
   "cell_type": "code",
   "execution_count": 6,
   "metadata": {
    "collapsed": false
   },
   "outputs": [
    {
     "name": "stdout",
     "output_type": "stream",
     "text": [
      "First rows of Jeopardy:\n",
      "   Show Number   Air Date      Round                         Category Value  \\\n",
      "0         4680 2004-12-31  Jeopardy!                          HISTORY  $200   \n",
      "1         4680 2004-12-31  Jeopardy!  ESPN's TOP 10 ALL-TIME ATHLETES  $200   \n",
      "2         4680 2004-12-31  Jeopardy!      EVERYBODY TALKS ABOUT IT...  $200   \n",
      "3         4680 2004-12-31  Jeopardy!                 THE COMPANY LINE  $200   \n",
      "4         4680 2004-12-31  Jeopardy!              EPITAPHS & TRIBUTES  $200   \n",
      "\n",
      "                                            Question      Answer  \\\n",
      "0  For the last 8 years of his life, Galileo was ...  Copernicus   \n",
      "1  No. 2: 1912 Olympian; football star at Carlisl...  Jim Thorpe   \n",
      "2  The city of Yuma in this state has a record av...     Arizona   \n",
      "3  In 1963, live on \"The Art Linkletter Show\", th...  McDonald's   \n",
      "4  Signer of the Dec. of Indep., framer of the Co...  John Adams   \n",
      "\n",
      "                                      clean_question clean_answer  \\\n",
      "0  for the last 8 years of his life galileo was u...   copernicus   \n",
      "1  no 2 1912 olympian football star at carlisle i...   jim thorpe   \n",
      "2  the city of yuma in this state has a record av...      arizona   \n",
      "3  in 1963 live on the art linkletter show this c...    mcdonalds   \n",
      "4  signer of the dec of indep framer of the const...   john adams   \n",
      "\n",
      "   clean_value  answer_in_question  \n",
      "0          200                 0.0  \n",
      "1          200                 0.0  \n",
      "2          200                 0.0  \n",
      "3          200                 0.0  \n",
      "4          200                 0.0  \n",
      "\n",
      "Mean of matches answer inside question: 0.05900196524977763\n"
     ]
    }
   ],
   "source": [
    "def match_answer_in_question(row):\n",
    "    split_answer = row[\"clean_answer\"].split()\n",
    "    split_question = row[\"clean_question\"].split()\n",
    "    match_count = 0\n",
    "    if 'the' in split_answer:\n",
    "        split_answer.remove('the')\n",
    "    if len(split_answer) == 0:\n",
    "        return 0\n",
    "    for item in split_answer:\n",
    "        if item in split_question:\n",
    "            match_count += 1\n",
    "    return match_count / len(split_answer)\n",
    "\n",
    "jeopardy['answer_in_question'] = jeopardy.apply(match_answer_in_question, axis=1)\n",
    "mean = jeopardy['answer_in_question'].mean()\n",
    "print('First rows of Jeopardy:', jeopardy.head(), sep='\\n')\n",
    "print('\\nMean of matches answer inside question: {}'.format(mean))"
   ]
  },
  {
   "cell_type": "markdown",
   "metadata": {},
   "source": [
    "We proceed now with the second question. Let's say we want to investigate how often new questions are repeats of older ones. To do this, is possible to:\n",
    "\n",
    "- Sort the dataset in order of ascending air date.\n",
    "- Maintain a set called `terms_used` that will be empty initially.\n",
    "- Iterate through each row of the dataset.\n",
    "- Split `clean_question` into words, remove any word shorter than 6 characters, and check if each word occurs in `terms_used`.\n",
    "- If it does, increment a counter.\n",
    "- Add each word to `terms_used`.\n",
    "\n",
    "This will enable us to check if the terms in questions have been used previously or not.  Only looking at words with six or more characters enables us to filter out words like _the_ and _than_, which are commonly used, but don't tell us a lot about a question."
   ]
  },
  {
   "cell_type": "code",
   "execution_count": 13,
   "metadata": {
    "collapsed": false
   },
   "outputs": [
    {
     "name": "stdout",
     "output_type": "stream",
     "text": [
      "First rows of Jeopardy:\n",
      "       Show Number   Air Date             Round         Category  Value  \\\n",
      "19325           10 1984-09-21   Final Jeopardy!  U.S. PRESIDENTS   None   \n",
      "19286           10 1984-09-21         Jeopardy!      DOUBLE TALK   $300   \n",
      "19285           10 1984-09-21         Jeopardy!        GEOGRAPHY   $300   \n",
      "19324           10 1984-09-21  Double Jeopardy!        TV TRIVIA  $1000   \n",
      "19301           10 1984-09-21  Double Jeopardy!     LABOR UNIONS   $200   \n",
      "\n",
      "                                                Question              Answer  \\\n",
      "19325  Adventurous 26th president, he was 1st to ride...  Theodore Roosevelt   \n",
      "19286              Adopted baby of Barney & Betty Rubble           Bamm-Bamm   \n",
      "19285  8th most populous country in the world, this \"...          Bangladesh   \n",
      "19324  In court, he'd always make mincemeat of Hamilt...         Perry Mason   \n",
      "19301           Notorious labor leader missing since '75         Jimmy Hoffa   \n",
      "\n",
      "                                          clean_question        clean_answer  \\\n",
      "19325  adventurous 26th president he was 1st to ride ...  theodore roosevelt   \n",
      "19286                adopted baby of barney betty rubble            bammbamm   \n",
      "19285  8th most populous country in the world this be...          bangladesh   \n",
      "19324  in court hed always make mincemeat of hamilton...         perry mason   \n",
      "19301            notorious labor leader missing since 75         jimmy hoffa   \n",
      "\n",
      "       clean_value  answer_in_question  question_overlap  \n",
      "19325            0                 0.0               0.0  \n",
      "19286          300                 0.0               0.0  \n",
      "19285          300                 0.0               0.0  \n",
      "19324         1000                 0.0               0.0  \n",
      "19301          200                 0.0               0.0  \n",
      "\n",
      "Mean of matches recycled questions: 0.6876947803264011\n"
     ]
    }
   ],
   "source": [
    "question_overlap = []\n",
    "terms_used = set()\n",
    "jeopardy.sort_values(by='Air Date', inplace=True)\n",
    "\n",
    "for row in jeopardy.itertuples():\n",
    "    split_question = row[8].split(\" \")\n",
    "    split_question = [q for q in split_question if len(q) > 5]\n",
    "    match_count = 0\n",
    "    for word in split_question:\n",
    "        if word in terms_used:\n",
    "            match_count += 1\n",
    "    for word in split_question:\n",
    "        terms_used.add(word)\n",
    "    if len(split_question) > 0:\n",
    "        match_count /= len(split_question)\n",
    "    question_overlap.append(match_count)\n",
    "\n",
    "jeopardy[\"question_overlap\"] = question_overlap\n",
    "mean = jeopardy['question_overlap'].mean()\n",
    "print('First rows of Jeopardy:', jeopardy.head(), sep='\\n')\n",
    "print('\\nMean of matches recycled questions: {}'.format(mean))"
   ]
  },
  {
   "cell_type": "markdown",
   "metadata": {},
   "source": [
    "As per the results, we can see that the mean of matches answer inside question is very low, so we can discard the importance of this feature. However, there is about 70% overlap between terms in new questions and terms in old questions. This only looks at a small set of questions, and it doesn't look at phrases, it looks at single terms. Thus, this makes it relatively insignificant, but it does mean that it's worth looking more into the recycling of questions.\n",
    "\n",
    "### Finding high value questions with chi-squared test\n",
    "\n",
    "Let's say we only want to study questions that pertain to high value questions instead of low value questions. This will help us earn more money when we're on Jeopardy.\n",
    "\n",
    "We can actually figure out which terms correspond to high-value questions using a chi-squared test. We'll first need to narrow down the questions into two categories:\n",
    "\n",
    "- `Low value` -- Any row where Value is less than 800.\n",
    "- `High value` -- Any row where Value is greater than 800.\n",
    "\n",
    "We'll then be able to loop through each of the terms from the last input, `terms_used`, and:\n",
    "\n",
    "- Find the number of low value questions the word occurs in.\n",
    "- Find the number of high value questions the word occurs in.\n",
    "- Find the percentage of questions the word occurs in.\n",
    "- Based on the percentage of questions the word occurs in, find expected counts.\n",
    "- Compute the chi squared value based on the expected counts and the observed counts for high and low value questions.\n",
    "\n",
    "We can then find the words with the biggest differences in usage between high and low value questions, by selecting the words with the highest associated chi-squared values. Doing this for all of the words would take a very long time, so we'll just do it for a small sample now."
   ]
  },
  {
   "cell_type": "code",
   "execution_count": 14,
   "metadata": {
    "collapsed": false
   },
   "outputs": [
    {
     "name": "stdout",
     "output_type": "stream",
     "text": [
      "First rows of Jeopardy:\n",
      "       Show Number   Air Date             Round         Category  Value  \\\n",
      "19325           10 1984-09-21   Final Jeopardy!  U.S. PRESIDENTS   None   \n",
      "19286           10 1984-09-21         Jeopardy!      DOUBLE TALK   $300   \n",
      "19285           10 1984-09-21         Jeopardy!        GEOGRAPHY   $300   \n",
      "19324           10 1984-09-21  Double Jeopardy!        TV TRIVIA  $1000   \n",
      "19301           10 1984-09-21  Double Jeopardy!     LABOR UNIONS   $200   \n",
      "\n",
      "                                                Question              Answer  \\\n",
      "19325  Adventurous 26th president, he was 1st to ride...  Theodore Roosevelt   \n",
      "19286              Adopted baby of Barney & Betty Rubble           Bamm-Bamm   \n",
      "19285  8th most populous country in the world, this \"...          Bangladesh   \n",
      "19324  In court, he'd always make mincemeat of Hamilt...         Perry Mason   \n",
      "19301           Notorious labor leader missing since '75         Jimmy Hoffa   \n",
      "\n",
      "                                          clean_question        clean_answer  \\\n",
      "19325  adventurous 26th president he was 1st to ride ...  theodore roosevelt   \n",
      "19286                adopted baby of barney betty rubble            bammbamm   \n",
      "19285  8th most populous country in the world this be...          bangladesh   \n",
      "19324  in court hed always make mincemeat of hamilton...         perry mason   \n",
      "19301            notorious labor leader missing since 75         jimmy hoffa   \n",
      "\n",
      "       clean_value  answer_in_question  question_overlap  high_value  \n",
      "19325            0                 0.0               0.0           0  \n",
      "19286          300                 0.0               0.0           0  \n",
      "19285          300                 0.0               0.0           0  \n",
      "19324         1000                 0.0               0.0           1  \n",
      "19301          200                 0.0               0.0           0  \n"
     ]
    }
   ],
   "source": [
    "def assing_value(row):\n",
    "    return 1 if row[\"clean_value\"] > 800 else 0\n",
    "\n",
    "jeopardy['high_value'] = jeopardy.apply(assing_value, axis=1)\n",
    "print('First rows of Jeopardy:', jeopardy.head(), sep='\\n')"
   ]
  },
  {
   "cell_type": "code",
   "execution_count": 32,
   "metadata": {
    "collapsed": false
   },
   "outputs": [
    {
     "name": "stdout",
     "output_type": "stream",
     "text": [
      "10 random words used:\n",
      "\n",
      "['forked', 'cleverly', 'telekinetic', 'statue', 'hrefhttpwwwjarchivecommedia20040628_j_08jpg', 'classics', 'golightly', 'spensers', 'medals', 'manmade']\n",
      "\n",
      "10 random words frequencies result [low_value questions, high_value questions]:\n",
      "\n",
      "[[2, 1], [2, 0], [1, 0], [20, 14], [1, 0], [2, 2], [1, 0], [1, 0], [2, 2], [3, 3]]\n"
     ]
    }
   ],
   "source": [
    "def count_value(word):\n",
    "    low_count = 0\n",
    "    high_count = 0\n",
    "    for row in jeopardy.itertuples():\n",
    "        split_question = row[8].split(\" \")\n",
    "        if word in split_question:\n",
    "            if row[13] == 1:\n",
    "                high_count += 1\n",
    "            else:\n",
    "                low_count += 1\n",
    "    return low_count, high_count\n",
    "\n",
    "import random\n",
    "comparison_terms = random.sample(terms_used, 10)\n",
    "observed_expected = []\n",
    "\n",
    "for word in comparison_terms:\n",
    "    low_value, high_value = count_value(word)\n",
    "    observed_expected.append([low_value, high_value])\n",
    "\n",
    "print('10 random words used:\\n')\n",
    "print(comparison_terms)\n",
    "print('\\n10 random words frequencies result [low_value questions, high_value questions]:\\n')\n",
    "print(observed_expected)"
   ]
  },
  {
   "cell_type": "code",
   "execution_count": 42,
   "metadata": {
    "collapsed": false
   },
   "outputs": [
    {
     "name": "stdout",
     "output_type": "stream",
     "text": [
      "high_value_questions: 5734\tlow_value_questions: 14265\n",
      "\n",
      "Chi Squared test results [chi_squared_value, p_value]:\n",
      "[[2.1177104383031944, 0.14560406868264344], [4.97558423439135, 0.025707519787911092], [2.487792117195675, 0.11473257634454047], [15.114751903504095, 0.00010116961911142579], [2.487792117195675, 0.11473257634454047], [0.889754963322559, 0.3455437191483468], [2.487792117195675, 0.11473257634454047], [2.487792117195675, 0.11473257634454047], [0.889754963322559, 0.3455437191483468], [1.3346324449838385, 0.24798277007881886]]\n"
     ]
    }
   ],
   "source": [
    "# Compute the expected counts and the chi-squared value\n",
    "high_value_count = (jeopardy['high_value'] == 1).sum()\n",
    "low_value_count = (jeopardy['high_value'] == 0).sum()\n",
    "print('high_value_questions: {}\\tlow_value_questions: {}'.format(high_value_count, low_value_count))\n",
    "\n",
    "import numpy as np\n",
    "from scipy.stats import chisquare\n",
    "\n",
    "chi_squared = []\n",
    "for item in observed_expected:\n",
    "    total = np.sum(item)\n",
    "    total_prop = total / rows\n",
    "    high_value_expected = total_prop * high_value_count\n",
    "    low_value_expected = total_prop * low_value_count\n",
    "    observed = np.array([item[0], item[1]])\n",
    "    expected = np.array([high_value_expected, low_value_expected])\n",
    "    chisqr_value, p_value = chisquare(observed, expected)\n",
    "    chi_squared.append([chisqr_value, p_value])\n",
    "\n",
    "print('\\nChi Squared test results [chi_squared_value, p_value]:')\n",
    "print(chi_squared)"
   ]
  },
  {
   "cell_type": "markdown",
   "metadata": {},
   "source": [
    "From the terms analyzed, we can see that almost none of them had a significant difference in usage between high value and low value rows. This can be explained because the frequencies were all lower than 5, so the chi-squared test isn't as valid. It would be better to run this test with only terms that have higher frequencies.\n",
    "\n",
    "However, in the case of the term with more usage, `statue` (34 times), we can see a significant difference in usage in favor of low value questions (p_value is near 0). We can conclude that this term is used in low value questions with statistical significance.\n",
    "\n",
    "We should repeat this experiment with all the terms to analyze the ones with a significant use in high value questions."
   ]
  }
 ],
 "metadata": {
  "kernelspec": {
   "display_name": "Python 3",
   "language": "python",
   "name": "python3"
  },
  "language_info": {
   "codemirror_mode": {
    "name": "ipython",
    "version": 3
   },
   "file_extension": ".py",
   "mimetype": "text/x-python",
   "name": "python",
   "nbconvert_exporter": "python",
   "pygments_lexer": "ipython3",
   "version": "3.4.3"
  }
 },
 "nbformat": 4,
 "nbformat_minor": 0
}
